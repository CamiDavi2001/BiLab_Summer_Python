{
 "cells": [
  {
   "cell_type": "markdown",
   "id": "4bce722f",
   "metadata": {},
   "source": [
    "## Tuple"
   ]
  },
  {
   "cell_type": "markdown",
   "id": "e1074f6c",
   "metadata": {},
   "source": [
    "1"
   ]
  },
  {
   "cell_type": "code",
   "execution_count": 4,
   "id": "0e0db748",
   "metadata": {},
   "outputs": [],
   "source": [
    "tuple1 = (\"Orange\", [10, 20, 30], (5, 15, 25))"
   ]
  },
  {
   "cell_type": "code",
   "execution_count": 10,
   "id": "818635d4",
   "metadata": {
    "scrolled": true
   },
   "outputs": [
    {
     "data": {
      "text/plain": [
       "10"
      ]
     },
     "execution_count": 10,
     "metadata": {},
     "output_type": "execute_result"
    }
   ],
   "source": [
    "tuple1[1][0]"
   ]
  },
  {
   "cell_type": "markdown",
   "id": "8aecca62",
   "metadata": {},
   "source": [
    "2. "
   ]
  },
  {
   "cell_type": "code",
   "execution_count": 12,
   "id": "f18daf47",
   "metadata": {},
   "outputs": [
    {
     "data": {
      "text/plain": [
       "25"
      ]
     },
     "execution_count": 12,
     "metadata": {},
     "output_type": "execute_result"
    }
   ],
   "source": [
    "tuple1[2][2]"
   ]
  },
  {
   "cell_type": "markdown",
   "id": "051cca15",
   "metadata": {},
   "source": [
    "3. It is not possible because when you create a Tuple, you can't modificate it."
   ]
  },
  {
   "cell_type": "markdown",
   "id": "dcd15870",
   "metadata": {},
   "source": [
    "4."
   ]
  },
  {
   "cell_type": "code",
   "execution_count": 14,
   "id": "294d86b0",
   "metadata": {},
   "outputs": [
    {
     "name": "stdout",
     "output_type": "stream",
     "text": [
      "3\n"
     ]
    }
   ],
   "source": [
    "print(len(tuple1))"
   ]
  },
  {
   "cell_type": "markdown",
   "id": "fbffbb7d",
   "metadata": {},
   "source": [
    "5."
   ]
  },
  {
   "cell_type": "code",
   "execution_count": 20,
   "id": "7dc98040",
   "metadata": {},
   "outputs": [],
   "source": [
    "tuple2 = ([7, 8], [9, 1], [10, 7])"
   ]
  },
  {
   "cell_type": "markdown",
   "id": "738aefd3",
   "metadata": {},
   "source": [
    "Step 1: I have to use the map function to apply the sum function in each sublist in tuple 2. "
   ]
  },
  {
   "cell_type": "code",
   "execution_count": 22,
   "id": "e30999d2",
   "metadata": {},
   "outputs": [],
   "source": [
    "mapped_result = map(sum, tuple2)"
   ]
  },
  {
   "cell_type": "markdown",
   "id": "ed9c485f",
   "metadata": {},
   "source": [
    "Step 2: Then I convert the mapped result to a list"
   ]
  },
  {
   "cell_type": "code",
   "execution_count": 21,
   "id": "ce803d4b",
   "metadata": {},
   "outputs": [],
   "source": [
    "result_list = list(mapped_result)"
   ]
  },
  {
   "cell_type": "markdown",
   "id": "3a1e89a9",
   "metadata": {},
   "source": [
    "Step 3: Next I sum all the elements in the result list"
   ]
  },
  {
   "cell_type": "code",
   "execution_count": 23,
   "id": "d716873d",
   "metadata": {},
   "outputs": [],
   "source": [
    "final_sum = sum(result_list)"
   ]
  },
  {
   "cell_type": "markdown",
   "id": "e62a4954",
   "metadata": {},
   "source": [
    "Step 4: Finally I print the result using the function print. The anwser is 42."
   ]
  },
  {
   "cell_type": "code",
   "execution_count": 19,
   "id": "04c865ab",
   "metadata": {},
   "outputs": [
    {
     "name": "stdout",
     "output_type": "stream",
     "text": [
      "42\n"
     ]
    }
   ],
   "source": [
    "print(final_sum)"
   ]
  },
  {
   "cell_type": "markdown",
   "id": "5976616f",
   "metadata": {},
   "source": [
    "6. For this exercise, half of each value was taken into account:\n"
   ]
  },
  {
   "cell_type": "code",
   "execution_count": 2,
   "id": "9d2c3f17",
   "metadata": {},
   "outputs": [],
   "source": [
    "tuple2 = ([7, 8], [9, 1], [10, 7])"
   ]
  },
  {
   "cell_type": "code",
   "execution_count": 3,
   "id": "fcb27d00",
   "metadata": {},
   "outputs": [],
   "source": [
    "tuple3 = tuple(map(lambda sublist: [x / 2 for x in sublist], tuple2))"
   ]
  },
  {
   "cell_type": "code",
   "execution_count": 4,
   "id": "684e5b35",
   "metadata": {
    "scrolled": true
   },
   "outputs": [
    {
     "name": "stdout",
     "output_type": "stream",
     "text": [
      "([3.5, 4.0], [4.5, 0.5], [5.0, 3.5])\n"
     ]
    }
   ],
   "source": [
    "print(tuple3)"
   ]
  },
  {
   "cell_type": "markdown",
   "id": "83339386",
   "metadata": {},
   "source": [
    "## Lists\n",
    "\n"
   ]
  },
  {
   "cell_type": "markdown",
   "id": "d343d8fa",
   "metadata": {},
   "source": [
    "1."
   ]
  },
  {
   "cell_type": "code",
   "execution_count": 10,
   "id": "f84c0893",
   "metadata": {
    "scrolled": true
   },
   "outputs": [],
   "source": [
    "import numpy as np"
   ]
  },
  {
   "cell_type": "code",
   "execution_count": 11,
   "id": "59762a8b",
   "metadata": {},
   "outputs": [],
   "source": [
    "f_list = [np.nan , np.nan, \"Austria\", \"Germany\", np.nan, \"Pakistan\", \"np.nan\", np.nan ]"
   ]
  },
  {
   "cell_type": "code",
   "execution_count": 14,
   "id": "1930d6f9",
   "metadata": {},
   "outputs": [],
   "source": [
    "nan_indices = [index for index, value in enumerate(f_list) if isinstance(value, float) and np.isnan(value)]"
   ]
  },
  {
   "cell_type": "code",
   "execution_count": 15,
   "id": "30aa0bc2",
   "metadata": {},
   "outputs": [
    {
     "name": "stdout",
     "output_type": "stream",
     "text": [
      "The indices 0, 1, 4, 7 have np.nan values.\n"
     ]
    }
   ],
   "source": [
    "print(f\"The indices {', '.join(map(str, nan_indices))} have np.nan values.\")"
   ]
  },
  {
   "cell_type": "markdown",
   "id": "7a077602",
   "metadata": {},
   "source": [
    "2. \n"
   ]
  },
  {
   "cell_type": "code",
   "execution_count": 16,
   "id": "d06952f6",
   "metadata": {},
   "outputs": [],
   "source": [
    "p2_list = [ 2 , 3, 4, 5 ]"
   ]
  },
  {
   "cell_type": "code",
   "execution_count": 17,
   "id": "d6dba41d",
   "metadata": {},
   "outputs": [],
   "source": [
    "replicated_list = p2_list * 4"
   ]
  },
  {
   "cell_type": "code",
   "execution_count": 18,
   "id": "5b864782",
   "metadata": {},
   "outputs": [
    {
     "name": "stdout",
     "output_type": "stream",
     "text": [
      "[2, 3, 4, 5, 2, 3, 4, 5, 2, 3, 4, 5, 2, 3, 4, 5]\n"
     ]
    }
   ],
   "source": [
    "print(replicated_list)"
   ]
  },
  {
   "cell_type": "markdown",
   "id": "c0e28a4a",
   "metadata": {},
   "source": [
    "3.\n"
   ]
  },
  {
   "cell_type": "code",
   "execution_count": 19,
   "id": "f27e1f95",
   "metadata": {},
   "outputs": [],
   "source": [
    "f_list = [np.nan , np.nan, \"Austria\", \"Germany\", np.nan, \"Pakistan\", \"np.nan\", np.nan ]"
   ]
  },
  {
   "cell_type": "code",
   "execution_count": 20,
   "id": "936a9db2",
   "metadata": {},
   "outputs": [
    {
     "name": "stdout",
     "output_type": "stream",
     "text": [
      "8\n"
     ]
    }
   ],
   "source": [
    "print(len(f_list))"
   ]
  },
  {
   "cell_type": "markdown",
   "id": "78bd8234",
   "metadata": {},
   "source": [
    "4. "
   ]
  },
  {
   "cell_type": "code",
   "execution_count": 25,
   "id": "d04c3940",
   "metadata": {},
   "outputs": [],
   "source": [
    "text1 = ['My', 'teacher', 'assistant', 'is', 'so', 'boring.']"
   ]
  },
  {
   "cell_type": "code",
   "execution_count": 26,
   "id": "1dcb8089",
   "metadata": {},
   "outputs": [],
   "source": [
    "result_string = ' '.join(text1)"
   ]
  },
  {
   "cell_type": "code",
   "execution_count": 27,
   "id": "aa57b670",
   "metadata": {},
   "outputs": [
    {
     "name": "stdout",
     "output_type": "stream",
     "text": [
      "My teacher assistant is so boring.\n"
     ]
    }
   ],
   "source": [
    "print(result_string)"
   ]
  },
  {
   "cell_type": "markdown",
   "id": "78a47727",
   "metadata": {},
   "source": [
    "5."
   ]
  },
  {
   "cell_type": "code",
   "execution_count": 1,
   "id": "9a47011d",
   "metadata": {},
   "outputs": [],
   "source": [
    "text1 = ['My', 'teacher', 'assistant', 'is', 'so', 'boring.']"
   ]
  },
  {
   "cell_type": "code",
   "execution_count": 2,
   "id": "48606c42",
   "metadata": {},
   "outputs": [],
   "source": [
    "text1.extend([\"but\", \"is\", \"very\", \"funny.\"])"
   ]
  },
  {
   "cell_type": "code",
   "execution_count": 3,
   "id": "946d65d3",
   "metadata": {},
   "outputs": [],
   "source": [
    "sentence = ' '.join(text1)"
   ]
  },
  {
   "cell_type": "code",
   "execution_count": 4,
   "id": "d0e08177",
   "metadata": {},
   "outputs": [
    {
     "name": "stdout",
     "output_type": "stream",
     "text": [
      "My teacher assistant is so boring. but is very funny.\n"
     ]
    }
   ],
   "source": [
    "print(sentence)"
   ]
  },
  {
   "cell_type": "markdown",
   "id": "12dabf0c",
   "metadata": {},
   "source": [
    "6."
   ]
  },
  {
   "cell_type": "code",
   "execution_count": 5,
   "id": "4aef0638",
   "metadata": {},
   "outputs": [],
   "source": [
    "values1 = [86, 86, 85, 85, 85, 83, 23, 0, 84, 1]"
   ]
  },
  {
   "cell_type": "code",
   "execution_count": 6,
   "id": "6e9c9e98",
   "metadata": {},
   "outputs": [],
   "source": [
    "max_value = max(values1)"
   ]
  },
  {
   "cell_type": "code",
   "execution_count": 7,
   "id": "e7c7694b",
   "metadata": {},
   "outputs": [],
   "source": [
    "max_index = values1.index(max_value)"
   ]
  },
  {
   "cell_type": "code",
   "execution_count": 8,
   "id": "5b1f26ab",
   "metadata": {},
   "outputs": [
    {
     "name": "stdout",
     "output_type": "stream",
     "text": [
      "The max value of values1 is 86 and is located in the 0 index.\n"
     ]
    }
   ],
   "source": [
    "print(f\"The max value of values1 is {max_value} and is located in the {max_index} index.\")"
   ]
  },
  {
   "cell_type": "code",
   "execution_count": 9,
   "id": "bfca936f",
   "metadata": {},
   "outputs": [],
   "source": [
    "min_value = min(values1)"
   ]
  },
  {
   "cell_type": "code",
   "execution_count": 10,
   "id": "42e29091",
   "metadata": {},
   "outputs": [],
   "source": [
    "min_index = values1.index(min_value)"
   ]
  },
  {
   "cell_type": "code",
   "execution_count": 11,
   "id": "b65dc9d4",
   "metadata": {},
   "outputs": [
    {
     "name": "stdout",
     "output_type": "stream",
     "text": [
      "The min value of values1 is 0 and is located in the 7 index.\n"
     ]
    }
   ],
   "source": [
    "print(f\"The min value of values1 is {min_value} and is located in the {min_index} index.\")"
   ]
  },
  {
   "cell_type": "markdown",
   "id": "2c9a741c",
   "metadata": {},
   "source": [
    "7."
   ]
  },
  {
   "cell_type": "code",
   "execution_count": 12,
   "id": "468104b3",
   "metadata": {},
   "outputs": [],
   "source": [
    "last_and_name = [ \"CORNEJO SANCHEZ, CHRISTIAN SANTOS\", \"ORELLANA QUISPE, CRISTIAN NASSER\", \"MORALES CHOQUEHUANCA, ANGELICA KARINA\", \"GUIMARAY RIBEYRO, JOSE ROBERTO\", \"CAMACHO GAVIDIA, ABEL FERNANDO\", \"TINTAYA ORIHUELA, MEIR ALVARO\", \"CHAVEZ MARTINEZ, JOSELIN ALEXANDRA\", \"FIGUEROA MURO, LEONEL ARTURO\", \"GOMEZ CRIBILLERO, JOSE FELIPE\", \"PALOMINO SEGUÍN, AFRANIA\", \"LUZON CUEVA, BIANCA MARIETTE\", \"SUAÑA ZEGARRA, ADRIAN ANDRE\", \"SOTO POMACHAGUA, DORKAS YOMIRA JHERMY\", \"FIORENTINO MARTINEZ, LADY ALY\", \"LAMA MAVILA, HECTOR ANDRE\", \"MEZA HINOJO, GUSTAVO\", \"LOZADA MURILLO, PERSEO MARCELO\", \"ZAMBRANO JIMENEZ, MIGUEL ALONZO\", \"JACOBS LUQUE, NICOLAS\", \"VIDAL VIDAL, ROCIO GABRIELA\", \"TORRES ANICAMA, JANE CAMILA\", \"LOPEZ ESTRADA, MARIA ELISA\", \"BOYCO ORAMS, ALEJANDRO\", \"DIAZ BERROSPI, KARLINE ROSMELI\", \"RIEGA ESCALANTE, STEPHY ROSARIO\", \"LEVANO TORRES, VALERIA CECILIA\", \"ESQUIVES BRAVO, SEBASTIAN RENATO\", \"PEREZ GONZALES, JUAN CARLOS\", \"OTERO MAGUIÑA, MARIANA\", \"CLAVO CAMPOS, ANDREA BRIZETH\", \"AGUILAR GARCIA, ERICK JOSUE\", \"CALDAS VELASQUEZ, JOSUE DANIEL\", \"SALAS NUÑEZ BORJA, FABIO MANUEL\", \"PIZARRO VILLANES, FERNANDA NICOLLE\", \"QUILLATUPA MORALES, ANGELA ADELINA\", \"HUANCAYA IDONE, CESAR DANTE\", \"CALVO PORTOCARRERO, GABRIELA ISABEL\", \"IBAÑEZ ABANTO, ANGEL MAURICIO\", \"MELÉNDEZ APONTE, JUAN DIEGO\", \"CRISTIAN SERRANO, ARONE\", \"HINOJOSA CAHUANA, PERCY ALBERTH\", \"ANGLAS GARCÍA, KEVIN ARTURO\", \"ALDAVE ACOSTA, CESAR ERNESTO\", \"NÚÑEZ HUAMÁN, CÉSAR AGUSTO\", \"OBREGON HUAMAN, DIANA EDITH\", \"SOTO PACHERRES, RODRIGO FRANCO\", \"INGARUCA RIVERA, GRETTEL ALEXANDRA\", \"ROJAS HUAMAN, ROSA ANGELA\", \"NEYRA SALAS, DANTE OMAR\", \"HUERTA ESPINOZA, YAJAIRA ALEXANDRA\", \"HUANCA MARTINEZ, JORGE ALBERTO\", \"FLORES CADILLO, ALEXIS\" ]"
   ]
  },
  {
   "cell_type": "code",
   "execution_count": 13,
   "id": "c7ee22bc",
   "metadata": {},
   "outputs": [],
   "source": [
    "names = list(map(lambda full_name: full_name.split(',')[1].lstrip(), last_and_name))\n"
   ]
  },
  {
   "cell_type": "code",
   "execution_count": 14,
   "id": "ac0a8272",
   "metadata": {},
   "outputs": [
    {
     "name": "stdout",
     "output_type": "stream",
     "text": [
      "Names: ['CHRISTIAN SANTOS', 'CRISTIAN NASSER', 'ANGELICA KARINA', 'JOSE ROBERTO', 'ABEL FERNANDO', 'MEIR ALVARO', 'JOSELIN ALEXANDRA', 'LEONEL ARTURO', 'JOSE FELIPE', 'AFRANIA', 'BIANCA MARIETTE', 'ADRIAN ANDRE', 'DORKAS YOMIRA JHERMY', 'LADY ALY', 'HECTOR ANDRE', 'GUSTAVO', 'PERSEO MARCELO', 'MIGUEL ALONZO', 'NICOLAS', 'ROCIO GABRIELA', 'JANE CAMILA', 'MARIA ELISA', 'ALEJANDRO', 'KARLINE ROSMELI', 'STEPHY ROSARIO', 'VALERIA CECILIA', 'SEBASTIAN RENATO', 'JUAN CARLOS', 'MARIANA', 'ANDREA BRIZETH', 'ERICK JOSUE', 'JOSUE DANIEL', 'FABIO MANUEL', 'FERNANDA NICOLLE', 'ANGELA ADELINA', 'CESAR DANTE', 'GABRIELA ISABEL', 'ANGEL MAURICIO', 'JUAN DIEGO', 'ARONE', 'PERCY ALBERTH', 'KEVIN ARTURO', 'CESAR ERNESTO', 'CÉSAR AGUSTO', 'DIANA EDITH', 'RODRIGO FRANCO', 'GRETTEL ALEXANDRA', 'ROSA ANGELA', 'DANTE OMAR', 'YAJAIRA ALEXANDRA', 'JORGE ALBERTO', 'ALEXIS']\n"
     ]
    }
   ],
   "source": [
    "print(\"Names:\", names)"
   ]
  },
  {
   "cell_type": "code",
   "execution_count": 15,
   "id": "d4b6b75c",
   "metadata": {},
   "outputs": [],
   "source": [
    "last_names = list(map(lambda full_name: full_name.split(',')[0], last_and_name))"
   ]
  },
  {
   "cell_type": "code",
   "execution_count": 16,
   "id": "5b443e3e",
   "metadata": {},
   "outputs": [
    {
     "name": "stdout",
     "output_type": "stream",
     "text": [
      "Last Names: ['CORNEJO SANCHEZ', 'ORELLANA QUISPE', 'MORALES CHOQUEHUANCA', 'GUIMARAY RIBEYRO', 'CAMACHO GAVIDIA', 'TINTAYA ORIHUELA', 'CHAVEZ MARTINEZ', 'FIGUEROA MURO', 'GOMEZ CRIBILLERO', 'PALOMINO SEGUÍN', 'LUZON CUEVA', 'SUAÑA ZEGARRA', 'SOTO POMACHAGUA', 'FIORENTINO MARTINEZ', 'LAMA MAVILA', 'MEZA HINOJO', 'LOZADA MURILLO', 'ZAMBRANO JIMENEZ', 'JACOBS LUQUE', 'VIDAL VIDAL', 'TORRES ANICAMA', 'LOPEZ ESTRADA', 'BOYCO ORAMS', 'DIAZ BERROSPI', 'RIEGA ESCALANTE', 'LEVANO TORRES', 'ESQUIVES BRAVO', 'PEREZ GONZALES', 'OTERO MAGUIÑA', 'CLAVO CAMPOS', 'AGUILAR GARCIA', 'CALDAS VELASQUEZ', 'SALAS NUÑEZ BORJA', 'PIZARRO VILLANES', 'QUILLATUPA MORALES', 'HUANCAYA IDONE', 'CALVO PORTOCARRERO', 'IBAÑEZ ABANTO', 'MELÉNDEZ APONTE', 'CRISTIAN SERRANO', 'HINOJOSA CAHUANA', 'ANGLAS GARCÍA', 'ALDAVE ACOSTA', 'NÚÑEZ HUAMÁN', 'OBREGON HUAMAN', 'SOTO PACHERRES', 'INGARUCA RIVERA', 'ROJAS HUAMAN', 'NEYRA SALAS', 'HUERTA ESPINOZA', 'HUANCA MARTINEZ', 'FLORES CADILLO']\n"
     ]
    }
   ],
   "source": [
    "print(\"Last Names:\", last_names)"
   ]
  },
  {
   "cell_type": "markdown",
   "id": "87ad6acf",
   "metadata": {},
   "source": [
    "8."
   ]
  },
  {
   "cell_type": "code",
   "execution_count": 17,
   "id": "746e2d7c",
   "metadata": {},
   "outputs": [],
   "source": [
    "last_and_name = [ \"CORNEJO SANCHEZ, CHRISTIAN SANTOS\", \"ORELLANA QUISPE, CRISTIAN NASSER\", \"MORALES CHOQUEHUANCA, ANGELICA KARINA\", \"GUIMARAY RIBEYRO, JOSE ROBERTO\", \"CAMACHO GAVIDIA, ABEL FERNANDO\", \"TINTAYA ORIHUELA, MEIR ALVARO\", \"CHAVEZ MARTINEZ, JOSELIN ALEXANDRA\", \"FIGUEROA MURO, LEONEL ARTURO\", \"GOMEZ CRIBILLERO, JOSE FELIPE\", \"PALOMINO SEGUÍN, AFRANIA\", \"LUZON CUEVA, BIANCA MARIETTE\", \"SUAÑA ZEGARRA, ADRIAN ANDRE\", \"SOTO POMACHAGUA, DORKAS YOMIRA JHERMY\", \"FIORENTINO MARTINEZ, LADY ALY\", \"LAMA MAVILA, HECTOR ANDRE\", \"MEZA HINOJO, GUSTAVO\", \"LOZADA MURILLO, PERSEO MARCELO\", \"ZAMBRANO JIMENEZ, MIGUEL ALONZO\", \"JACOBS LUQUE, NICOLAS\", \"VIDAL VIDAL, ROCIO GABRIELA\", \"TORRES ANICAMA, JANE CAMILA\", \"LOPEZ ESTRADA, MARIA ELISA\", \"BOYCO ORAMS, ALEJANDRO\", \"DIAZ BERROSPI, KARLINE ROSMELI\", \"RIEGA ESCALANTE, STEPHY ROSARIO\", \"LEVANO TORRES, VALERIA CECILIA\", \"ESQUIVES BRAVO, SEBASTIAN RENATO\", \"PEREZ GONZALES, JUAN CARLOS\", \"OTERO MAGUIÑA, MARIANA\", \"CLAVO CAMPOS, ANDREA BRIZETH\", \"AGUILAR GARCIA, ERICK JOSUE\", \"CALDAS VELASQUEZ, JOSUE DANIEL\", \"SALAS NUÑEZ BORJA, FABIO MANUEL\", \"PIZARRO VILLANES, FERNANDA NICOLLE\", \"QUILLATUPA MORALES, ANGELA ADELINA\", \"HUANCAYA IDONE, CESAR DANTE\", \"CALVO PORTOCARRERO, GABRIELA ISABEL\", \"IBAÑEZ ABANTO, ANGEL MAURICIO\", \"MELÉNDEZ APONTE, JUAN DIEGO\", \"CRISTIAN SERRANO, ARONE\", \"HINOJOSA CAHUANA, PERCY ALBERTH\", \"ANGLAS GARCÍA, KEVIN ARTURO\", \"ALDAVE ACOSTA, CESAR ERNESTO\", \"NÚÑEZ HUAMÁN, CÉSAR AGUSTO\", \"OBREGON HUAMAN, DIANA EDITH\", \"SOTO PACHERRES, RODRIGO FRANCO\", \"INGARUCA RIVERA, GRETTEL ALEXANDRA\", \"ROJAS HUAMAN, ROSA ANGELA\", \"NEYRA SALAS, DANTE OMAR\", \"HUERTA ESPINOZA, YAJAIRA ALEXANDRA\", \"HUANCA MARTINEZ, JORGE ALBERTO\", \"FLORES CADILLO, ALEXIS\" ]"
   ]
  },
  {
   "cell_type": "code",
   "execution_count": 18,
   "id": "0702d16c",
   "metadata": {},
   "outputs": [],
   "source": [
    "emails = [\"cscornejo@pucp.edu.pe\", \"orellana.cn@pucp.edu.pe\", \"karina.morales@pucp.edu.pe\", \"a20083223@pucp.pe\", \"abel.camacho@pucp.pe\", \"mtintaya@pucp.edu.pe\", \"joselin.chavez@pucp.edu.pe\", \"a20105737@pucp.pe\", \"jfgomezc@pucp.pe\", \"afrania.palomino@pucp.pe\", \"luzon.bianca@pucp.pe\", \"adrian.suanaz@pucp.pe\", \"soto.y@pucp.edu.pe\", \"a20132766@pucp.pe\", \"andre.lama@pucp.edu.pe\", \"gustavo.meza@pucp.edu.pe\", \"pmlozada@pucp.edu.pe\", \"m.zambranoj@pucp.edu.pe\", \"nicolas.jacobs@pucp.edu.pe\", \"gvidal@pucp.edu.pe\", \"jane.torres@pucp.edu.pe\", \"m.lopez@pucp.edu.pe\", \"alejandro.boyco@pucp.edu.pe\", \"a20167070@pucp.edu.pe\", \"riega.stephy@pucp.edu.pe\", \"vlevanot@pucp.edu.pe\", \"sesquives@pucp.edu.pe\", \"perez.juanc@pucp.edu.pe\", \"mariana.otero@pucp.edu.pe\", \"aclavo@pucp.edu.pe\", \"a20182474@pucp.edu.pe\", \"josue.caldas@pucp.edu.pe\", \"fabio.salas@pucp.edu.pe\", \"fernanda.pizarro@pucp.edu.pe\", \"aquillatupa@pucp.pe\", \"\", \"\", \"\", \"\", \"\", \"f0873079@pucp.edu.pe\", \"\", \"\", \"\", \"\", \"\", \"\", \"\", \"\", \"\", \"\", \"flores.alexis@pucp.edu.pe\", ]"
   ]
  },
  {
   "cell_type": "code",
   "execution_count": 19,
   "id": "dfa4e3df",
   "metadata": {},
   "outputs": [],
   "source": [
    "last_names = list(map(lambda full_name: full_name.split(',')[0], last_and_name))"
   ]
  },
  {
   "cell_type": "code",
   "execution_count": 20,
   "id": "f4e443ad",
   "metadata": {},
   "outputs": [],
   "source": [
    "combined_data = zip(last_names, emails)"
   ]
  },
  {
   "cell_type": "code",
   "execution_count": 21,
   "id": "48140d4a",
   "metadata": {},
   "outputs": [],
   "source": [
    "last_names_no_email = [last_name for last_name, email in combined_data if email == '']"
   ]
  },
  {
   "cell_type": "code",
   "execution_count": 22,
   "id": "1e52fe5d",
   "metadata": {},
   "outputs": [
    {
     "name": "stdout",
     "output_type": "stream",
     "text": [
      "Last Names of Students without Email: ['HUANCAYA IDONE', 'CALVO PORTOCARRERO', 'IBAÑEZ ABANTO', 'MELÉNDEZ APONTE', 'CRISTIAN SERRANO', 'ANGLAS GARCÍA', 'ALDAVE ACOSTA', 'NÚÑEZ HUAMÁN', 'OBREGON HUAMAN', 'SOTO PACHERRES', 'INGARUCA RIVERA', 'ROJAS HUAMAN', 'NEYRA SALAS', 'HUERTA ESPINOZA', 'HUANCA MARTINEZ']\n"
     ]
    }
   ],
   "source": [
    "print(\"Last Names of Students without Email:\", last_names_no_email)"
   ]
  },
  {
   "cell_type": "markdown",
   "id": "e6ab4ed1",
   "metadata": {},
   "source": [
    "## Strings"
   ]
  },
  {
   "cell_type": "markdown",
   "id": "7a9395ec",
   "metadata": {},
   "source": [
    "1."
   ]
  },
  {
   "cell_type": "code",
   "execution_count": 23,
   "id": "c37a14c0",
   "metadata": {},
   "outputs": [],
   "source": [
    "str1 = 'I am                            too                                                        old'"
   ]
  },
  {
   "cell_type": "code",
   "execution_count": 24,
   "id": "307cba4c",
   "metadata": {},
   "outputs": [],
   "source": [
    "words = str1.split(' ')"
   ]
  },
  {
   "cell_type": "markdown",
   "id": "0a26de5b",
   "metadata": {},
   "source": [
    "Step 1: I split the string \"str1\" into a list of words, using spaces as a delimiter."
   ]
  },
  {
   "cell_type": "code",
   "execution_count": 25,
   "id": "07fcdd28",
   "metadata": {},
   "outputs": [],
   "source": [
    "filtered_words = filter(lambda x: x != '', words)"
   ]
  },
  {
   "cell_type": "markdown",
   "id": "c85c428d",
   "metadata": {},
   "source": [
    "Step 2: Then I filtered out any empty strings resulting from consecutive spaces after splitting."
   ]
  },
  {
   "cell_type": "code",
   "execution_count": 26,
   "id": "0a7de6a2",
   "metadata": {},
   "outputs": [],
   "source": [
    "result = ' '.join(filtered_words)"
   ]
  },
  {
   "cell_type": "markdown",
   "id": "b7b0818c",
   "metadata": {},
   "source": [
    "Step 3: For the next step, I joined the filtered words with a single space."
   ]
  },
  {
   "cell_type": "code",
   "execution_count": 27,
   "id": "b009dc73",
   "metadata": {},
   "outputs": [
    {
     "name": "stdout",
     "output_type": "stream",
     "text": [
      "String with duplicated spaces removed: I am too old\n"
     ]
    }
   ],
   "source": [
    "print(\"String with duplicated spaces removed:\", result)"
   ]
  },
  {
   "cell_type": "code",
   "execution_count": null,
   "id": "326523a6",
   "metadata": {},
   "outputs": [],
   "source": []
  }
 ],
 "metadata": {
  "kernelspec": {
   "display_name": "Python 3 (ipykernel)",
   "language": "python",
   "name": "python3"
  },
  "language_info": {
   "codemirror_mode": {
    "name": "ipython",
    "version": 3
   },
   "file_extension": ".py",
   "mimetype": "text/x-python",
   "name": "python",
   "nbconvert_exporter": "python",
   "pygments_lexer": "ipython3",
   "version": "3.11.5"
  }
 },
 "nbformat": 4,
 "nbformat_minor": 5
}
