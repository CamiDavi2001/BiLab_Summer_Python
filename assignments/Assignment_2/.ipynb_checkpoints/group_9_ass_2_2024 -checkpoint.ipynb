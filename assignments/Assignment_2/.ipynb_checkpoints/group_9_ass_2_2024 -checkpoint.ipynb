{
 "cells": [
  {
   "cell_type": "markdown",
   "id": "4582e715",
   "metadata": {},
   "source": [
    "# TUPLE"
   ]
  },
  {
   "cell_type": "code",
   "execution_count": 1,
   "id": "23bf17c0",
   "metadata": {},
   "outputs": [],
   "source": [
    "tuple1 = (\"Orange\", [10, 20, 30], (5, 15, 25))\n"
   ]
  },
  {
   "cell_type": "markdown",
   "id": "22520671",
   "metadata": {},
   "source": [
    "1."
   ]
  },
  {
   "cell_type": "code",
   "execution_count": 2,
   "id": "eaf8da5a",
   "metadata": {},
   "outputs": [
    {
     "name": "stdout",
     "output_type": "stream",
     "text": [
      "10\n"
     ]
    }
   ],
   "source": [
    "print(tuple1 [1][0])"
   ]
  },
  {
   "cell_type": "markdown",
   "id": "b7e7c80d",
   "metadata": {},
   "source": [
    "Explanation: each element is separated by a comma, so the second element is [10, 20, 30] and the first element of this element is 10."
   ]
  },
  {
   "cell_type": "markdown",
   "id": "0d7e8a3e",
   "metadata": {},
   "source": [
    "2."
   ]
  },
  {
   "cell_type": "code",
   "execution_count": 3,
   "id": "c6fd0fd3",
   "metadata": {},
   "outputs": [
    {
     "name": "stdout",
     "output_type": "stream",
     "text": [
      "(5, 15, 25)\n"
     ]
    }
   ],
   "source": [
    "print ( tuple1[-1])\n"
   ]
  },
  {
   "cell_type": "markdown",
   "id": "4a573341",
   "metadata": {},
   "source": [
    "Explanation: To print the last item we have to use negative indexing.\n"
   ]
  },
  {
   "cell_type": "markdown",
   "id": "6ec2999d",
   "metadata": {},
   "source": [
    "3."
   ]
  },
  {
   "cell_type": "markdown",
   "id": "11f0d013",
   "metadata": {},
   "source": [
    "It’s not possible because the tuples don’t change.They cannot be modified, they remain the same until the end once created."
   ]
  },
  {
   "cell_type": "markdown",
   "id": "3005b732",
   "metadata": {},
   "source": [
    "4."
   ]
  },
  {
   "cell_type": "code",
   "execution_count": 4,
   "id": "6ae9fdba",
   "metadata": {},
   "outputs": [
    {
     "name": "stdout",
     "output_type": "stream",
     "text": [
      "3\n"
     ]
    }
   ],
   "source": [
    "print(len(tuple1))\n"
   ]
  },
  {
   "cell_type": "markdown",
   "id": "6ffc4a7c",
   "metadata": {},
   "source": [
    "Explanation: We use the len function to know the number of elements\n"
   ]
  },
  {
   "cell_type": "markdown",
   "id": "bdc53c52",
   "metadata": {},
   "source": [
    "5."
   ]
  },
  {
   "cell_type": "code",
   "execution_count": 5,
   "id": "9f243dff",
   "metadata": {},
   "outputs": [],
   "source": [
    "tuple2 = ([7, 8], [9, 1], [10, 7])\n"
   ]
  },
  {
   "cell_type": "markdown",
   "id": "e748e7cc",
   "metadata": {},
   "source": [
    "Step1: We have to use the sum function to each sublist using map\n"
   ]
  },
  {
   "cell_type": "code",
   "execution_count": 8,
   "id": "03e49290",
   "metadata": {},
   "outputs": [],
   "source": [
    "map_sum = map(sum, tuple2)"
   ]
  },
  {
   "cell_type": "markdown",
   "id": "2dd05435",
   "metadata": {},
   "source": [
    "Step2: We have to convert map_sum to a list\n"
   ]
  },
  {
   "cell_type": "code",
   "execution_count": 9,
   "id": "4456e205",
   "metadata": {},
   "outputs": [],
   "source": [
    "list_sum= list(map_sum)\n"
   ]
  },
  {
   "cell_type": "markdown",
   "id": "5bb8e31d",
   "metadata": {},
   "source": [
    "Step 3: We have to sum all the individual sums\n"
   ]
  },
  {
   "cell_type": "code",
   "execution_count": 10,
   "id": "1981109f",
   "metadata": {},
   "outputs": [],
   "source": [
    "all_sum= sum(list_sum)\n"
   ]
  },
  {
   "cell_type": "markdown",
   "id": "2b4d4427",
   "metadata": {},
   "source": [
    "Step 4: We have to print to get the result\n"
   ]
  },
  {
   "cell_type": "code",
   "execution_count": 11,
   "id": "2f14edff",
   "metadata": {},
   "outputs": [
    {
     "name": "stdout",
     "output_type": "stream",
     "text": [
      "42\n"
     ]
    }
   ],
   "source": [
    "print(all_sum)\n"
   ]
  },
  {
   "cell_type": "code",
   "execution_count": null,
   "id": "4365e566",
   "metadata": {},
   "outputs": [],
   "source": []
  },
  {
   "cell_type": "code",
   "execution_count": null,
   "id": "269e9cec",
   "metadata": {},
   "outputs": [],
   "source": []
  },
  {
   "cell_type": "code",
   "execution_count": null,
   "id": "f6492e01",
   "metadata": {},
   "outputs": [],
   "source": []
  },
  {
   "cell_type": "code",
   "execution_count": null,
   "id": "ab1b1784",
   "metadata": {},
   "outputs": [],
   "source": []
  },
  {
   "cell_type": "code",
   "execution_count": null,
   "id": "e71b1e05",
   "metadata": {},
   "outputs": [],
   "source": []
  },
  {
   "cell_type": "code",
   "execution_count": null,
   "id": "c35cbbe7",
   "metadata": {},
   "outputs": [],
   "source": []
  },
  {
   "cell_type": "code",
   "execution_count": null,
   "id": "5f582e24",
   "metadata": {},
   "outputs": [],
   "source": []
  },
  {
   "cell_type": "code",
   "execution_count": null,
   "id": "78cba69c",
   "metadata": {},
   "outputs": [],
   "source": []
  },
  {
   "cell_type": "code",
   "execution_count": null,
   "id": "621c2e72",
   "metadata": {},
   "outputs": [],
   "source": []
  },
  {
   "cell_type": "code",
   "execution_count": null,
   "id": "c9a0f545",
   "metadata": {},
   "outputs": [],
   "source": []
  },
  {
   "cell_type": "code",
   "execution_count": null,
   "id": "1bbe86c1",
   "metadata": {},
   "outputs": [],
   "source": []
  },
  {
   "cell_type": "code",
   "execution_count": null,
   "id": "9a0d80ce",
   "metadata": {},
   "outputs": [],
   "source": []
  },
  {
   "cell_type": "code",
   "execution_count": null,
   "id": "81c22669",
   "metadata": {},
   "outputs": [],
   "source": []
  },
  {
   "cell_type": "code",
   "execution_count": null,
   "id": "77cfdc1e",
   "metadata": {},
   "outputs": [],
   "source": []
  },
  {
   "cell_type": "code",
   "execution_count": null,
   "id": "ddfba90d",
   "metadata": {},
   "outputs": [],
   "source": []
  },
  {
   "cell_type": "code",
   "execution_count": null,
   "id": "1cef3834",
   "metadata": {},
   "outputs": [],
   "source": []
  },
  {
   "cell_type": "code",
   "execution_count": null,
   "id": "b21fc0c2",
   "metadata": {},
   "outputs": [],
   "source": []
  },
  {
   "cell_type": "code",
   "execution_count": null,
   "id": "9c16b051",
   "metadata": {},
   "outputs": [],
   "source": []
  },
  {
   "cell_type": "code",
   "execution_count": null,
   "id": "2b095038",
   "metadata": {},
   "outputs": [],
   "source": []
  },
  {
   "cell_type": "code",
   "execution_count": null,
   "id": "2679819a",
   "metadata": {},
   "outputs": [],
   "source": []
  },
  {
   "cell_type": "code",
   "execution_count": null,
   "id": "4abb0990",
   "metadata": {},
   "outputs": [],
   "source": []
  },
  {
   "cell_type": "code",
   "execution_count": 1,
   "id": "c330a65d",
   "metadata": {},
   "outputs": [],
   "source": [
    "# Input data provided\n",
    "str1 = 'I am                            too                                                        old'\n",
    "emails = [\"cscornejo@pucp.edu.pe\", \"orellana.cn@pucp.edu.pe\", \"karina.morales@pucp.edu.pe\", \"a20083223@pucp.pe\", \"abel.camacho@pucp.pe\", \"mtintaya@pucp.edu.pe\", \"joselin.chavez@pucp.edu.pe\", \"a20105737@pucp.pe\", \"jfgomezc@pucp.pe\", \"afrania.palomino@pucp.pe\", \"luzon.bianca@pucp.pe\", \"adrian.suanaz@pucp.pe\", \"soto.y@pucp.edu.pe\", \"a20132766@pucp.pe\", \"andre.lama@pucp.edu.pe\", \"gustavo.meza@pucp.edu.pe\", \"pmlozada@pucp.edu.pe\", \"m.zambranoj@pucp.edu.pe\", \"nicolas.jacobs@pucp.edu.pe\", \"gvidal@pucp.edu.pe\", \"jane.torres@pucp.edu.pe\", \"m.lopez@pucp.edu.pe\", \"alejandro.boyco@pucp.edu.pe\", \"a20167070@pucp.edu.pe\", \"riega.stephy@pucp.edu.pe\", \"vlevanot@pucp.edu.pe\", \"sesquives@pucp.edu.pe\", \"perez.juanc@pucp.edu.pe\", \"mariana.otero@pucp.edu.pe\", \"aclavo@pucp.edu.pe\", \"a20182474@pucp.edu.pe\", \"josue.caldas@pucp.edu.pe\", \"fabio.salas@pucp.edu.pe\", \"fernanda.pizarro@pucp.edu.pe\", \"aquillatupa@pucp.pe\"]"
   ]
  },
  {
   "cell_type": "markdown",
   "id": "7f91ca9d",
   "metadata": {},
   "source": [
    "I."
   ]
  },
  {
   "cell_type": "code",
   "execution_count": 9,
   "id": "808e8f63",
   "metadata": {},
   "outputs": [
    {
     "name": "stdout",
     "output_type": "stream",
     "text": [
      "I am too old\n"
     ]
    }
   ],
   "source": [
    "# Eliminate redundant whitespace in the string, str1\n",
    "withoutblanks_str1 = ' '.join(str1.split())\n",
    "print(withoutblanks_str1)"
   ]
  },
  {
   "cell_type": "markdown",
   "id": "b72832d6",
   "metadata": {},
   "source": [
    "II."
   ]
  },
  {
   "cell_type": "code",
   "execution_count": 3,
   "id": "00c50108",
   "metadata": {},
   "outputs": [
    {
     "name": "stdout",
     "output_type": "stream",
     "text": [
      "9\n"
     ]
    }
   ],
   "source": [
    "# Calculate the cardinality of alphabetical characters within the specified string, considering its length and individual occurrences of each letter.\n",
    "num_letters = sum(char.isalpha() for char in str1)\n",
    "print(num_letters)"
   ]
  },
  {
   "cell_type": "markdown",
   "id": "786769a6",
   "metadata": {},
   "source": [
    "III."
   ]
  },
  {
   "cell_type": "code",
   "execution_count": 4,
   "id": "945a9e9f",
   "metadata": {},
   "outputs": [
    {
     "name": "stdout",
     "output_type": "stream",
     "text": [
      "85\n"
     ]
    }
   ],
   "source": [
    "# Retrieve the count of whitespace characters within the string..\n",
    "num_spaces = sum(map(str.isspace, str1))\n",
    "print(num_spaces)"
   ]
  },
  {
   "cell_type": "code",
   "execution_count": 5,
   "id": "b70ad701",
   "metadata": {},
   "outputs": [
    {
     "name": "stdout",
     "output_type": "stream",
     "text": [
      "3\n"
     ]
    }
   ],
   "source": [
    "# Derive the count of spaces devoid of any additional whitespace characters within the given string.\n",
    "num_spaces = sum(map(str.isspace, withoutblanks_str1))\n",
    "print(num_spaces)"
   ]
  },
  {
   "cell_type": "markdown",
   "id": "43f41262",
   "metadata": {},
   "source": [
    "IV."
   ]
  },
  {
   "cell_type": "code",
   "execution_count": 6,
   "id": "3aec633d",
   "metadata": {},
   "outputs": [
    {
     "name": "stdout",
     "output_type": "stream",
     "text": [
      "[9, 11, 14, 9, 12, 8, 14, 9, 8, 16, 12, 13, 6, 9, 10, 12, 8, 11, 14, 6, 11, 7, 15, 9, 12, 8, 9, 11, 13, 6, 9, 12, 11, 16, 11]\n"
     ]
    }
   ],
   "source": [
    "# Provided a list of emails, utilize map and find functions to determine the position of '@' in each email, showcasing the respective positions of '@' in the emails.\n",
    "positions_arroba = list(map(lambda email: email.find('@'), emails))\n",
    "print(positions_arroba)"
   ]
  },
  {
   "cell_type": "markdown",
   "id": "d4ddc6b3",
   "metadata": {},
   "source": [
    "V."
   ]
  },
  {
   "cell_type": "code",
   "execution_count": 7,
   "id": "6a7a7ef3",
   "metadata": {},
   "outputs": [
    {
     "name": "stdout",
     "output_type": "stream",
     "text": [
      "[True, True, True, False, False, True, True, False, False, False, False, False, True, False, True, True, True, True, True, True, True, True, True, True, True, True, True, True, True, True, True, True, True, True, False]\n"
     ]
    }
   ],
   "source": [
    "# Given a list of emails, search for the presence of '.edu.' in each string, generating a list of Booleans representing its existence.\n",
    "edu_exists = list(map(lambda x: '.edu.' in x, emails))\n",
    "print(edu_exists)"
   ]
  },
  {
   "cell_type": "markdown",
   "id": "04ce7f07",
   "metadata": {},
   "source": [
    "VI."
   ]
  },
  {
   "cell_type": "code",
   "execution_count": 8,
   "id": "dd920cfa",
   "metadata": {},
   "outputs": [
    {
     "name": "stdout",
     "output_type": "stream",
     "text": [
      "14\n"
     ]
    }
   ],
   "source": [
    "# Get all the email strings before the first dot ('.') in each email address\n",
    "emails_before_dot = map(lambda email: email[:email.find('.')], emails)\n",
    "\n",
    "# Count how many of those substrings contain the '@' symbol\n",
    "count_with_at = sum(map(lambda email: '@' in email, emails_before_dot))\n",
    "\n",
    "# Display the total count of email substrings that have '@' after the first dot ('.')\n",
    "print(count_with_at)"
   ]
  },
  {
   "cell_type": "code",
   "execution_count": null,
   "id": "8522c7fb",
   "metadata": {},
   "outputs": [],
   "source": []
  }
 ],
 "metadata": {
  "kernelspec": {
   "display_name": "Python 3 (ipykernel)",
   "language": "python",
   "name": "python3"
  },
  "language_info": {
   "codemirror_mode": {
    "name": "ipython",
    "version": 3
   },
   "file_extension": ".py",
   "mimetype": "text/x-python",
   "name": "python",
   "nbconvert_exporter": "python",
   "pygments_lexer": "ipython3",
   "version": "3.11.5"
  }
 },
 "nbformat": 4,
 "nbformat_minor": 5
}
