my_string = ' hello15%_ '
print(my_string)
