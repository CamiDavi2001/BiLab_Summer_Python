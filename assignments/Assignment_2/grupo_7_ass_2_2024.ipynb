# tuple
1. tuple1 = ("Orange", [10, 20, 30], (5, 15, 20))
tuple1[1][0]
2. 
tuple1[2][2]
3.
"We can't change it, because a tuple is an inmutable"
4.
len(tuple1)
print(len(tuple1))
5.
tuple2 = ([7, 8], [9, 1], [10, 7]
"Step 1: We must use the function "map" to sum in each sublist of tuple2"
map_input = map(sum, tuple2)
"Step 2: We must transform map input to a list"
list1 = list(map_input)
"Step 3: We must sum all elements of the list"
result = sum(list1)
print(result)
"We use lambda to achieve the same result concisely"
tuple3 = tuple(map(lambda values: [x / 2 for x in values], tuple2))
print(tuple3)
