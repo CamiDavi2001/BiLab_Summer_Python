{
 "cells": [
  {
   "cell_type": "markdown",
   "id": "4bce722f",
   "metadata": {},
   "source": [
    "## Tuple"
   ]
  },
  {
   "cell_type": "markdown",
   "id": "e1074f6c",
   "metadata": {},
   "source": [
    "1"
   ]
  },
  {
   "cell_type": "code",
   "execution_count": 4,
   "id": "0e0db748",
   "metadata": {},
   "outputs": [],
   "source": [
    "tuple1 = (\"Orange\", [10, 20, 30], (5, 15, 25))"
   ]
  },
  {
   "cell_type": "code",
   "execution_count": 10,
   "id": "818635d4",
   "metadata": {
    "scrolled": true
   },
   "outputs": [
    {
     "data": {
      "text/plain": [
       "10"
      ]
     },
     "execution_count": 10,
     "metadata": {},
     "output_type": "execute_result"
    }
   ],
   "source": [
    "tuple1[1][0]"
   ]
  },
  {
   "cell_type": "markdown",
   "id": "8aecca62",
   "metadata": {},
   "source": [
    "2. "
   ]
  },
  {
   "cell_type": "code",
   "execution_count": 12,
   "id": "f18daf47",
   "metadata": {},
   "outputs": [
    {
     "data": {
      "text/plain": [
       "25"
      ]
     },
     "execution_count": 12,
     "metadata": {},
     "output_type": "execute_result"
    }
   ],
   "source": [
    "tuple1[2][2]"
   ]
  },
  {
   "cell_type": "markdown",
   "id": "051cca15",
   "metadata": {},
   "source": [
    "3. It is not possible because when you create a Tuple, you can't modificate it."
   ]
  },
  {
   "cell_type": "markdown",
   "id": "dcd15870",
   "metadata": {},
   "source": [
    "4."
   ]
  },
  {
   "cell_type": "code",
   "execution_count": 14,
   "id": "294d86b0",
   "metadata": {},
   "outputs": [
    {
     "name": "stdout",
     "output_type": "stream",
     "text": [
      "3\n"
     ]
    }
   ],
   "source": [
    "print(len(tuple1))"
   ]
  },
  {
   "cell_type": "markdown",
   "id": "fbffbb7d",
   "metadata": {},
   "source": [
    "5."
   ]
  },
  {
   "cell_type": "code",
   "execution_count": 20,
   "id": "7dc98040",
   "metadata": {},
   "outputs": [],
   "source": [
    "tuple2 = ([7, 8], [9, 1], [10, 7])"
   ]
  },
  {
   "cell_type": "markdown",
   "id": "738aefd3",
   "metadata": {},
   "source": [
    "Step 1: I have to use the map function to apply the sum function in each sublist in tuple 2. "
   ]
  },
  {
   "cell_type": "code",
   "execution_count": 22,
   "id": "e30999d2",
   "metadata": {},
   "outputs": [],
   "source": [
    "mapped_result = map(sum, tuple2)"
   ]
  },
  {
   "cell_type": "markdown",
   "id": "ed9c485f",
   "metadata": {},
   "source": [
    "Step 2: Then I convert the mapped result to a list"
   ]
  },
  {
   "cell_type": "code",
   "execution_count": 21,
   "id": "ce803d4b",
   "metadata": {},
   "outputs": [],
   "source": [
    "result_list = list(mapped_result)"
   ]
  },
  {
   "cell_type": "markdown",
   "id": "3a1e89a9",
   "metadata": {},
   "source": [
    "Step 3: Next I sum all the elements in the result list"
   ]
  },
  {
   "cell_type": "code",
   "execution_count": 23,
   "id": "d716873d",
   "metadata": {},
   "outputs": [],
   "source": [
    "final_sum = sum(result_list)"
   ]
  },
  {
   "cell_type": "markdown",
   "id": "e62a4954",
   "metadata": {},
   "source": [
    "Step 4: Finally I print the result using the function print. The anwser is 42."
   ]
  },
  {
   "cell_type": "code",
   "execution_count": 19,
   "id": "04c865ab",
   "metadata": {},
   "outputs": [
    {
     "name": "stdout",
     "output_type": "stream",
     "text": [
      "42\n"
     ]
    }
   ],
   "source": [
    "print(final_sum)"
   ]
  },
  {
   "cell_type": "markdown",
   "id": "5976616f",
   "metadata": {},
   "source": []
  }
 ],
 "metadata": {
  "kernelspec": {
   "display_name": "Python 3 (ipykernel)",
   "language": "python",
   "name": "python3"
  },
  "language_info": {
   "codemirror_mode": {
    "name": "ipython",
    "version": 3
   },
   "file_extension": ".py",
   "mimetype": "text/x-python",
   "name": "python",
   "nbconvert_exporter": "python",
   "pygments_lexer": "ipython3",
   "version": "3.11.5"
  }
 },
 "nbformat": 4,
 "nbformat_minor": 5
}
