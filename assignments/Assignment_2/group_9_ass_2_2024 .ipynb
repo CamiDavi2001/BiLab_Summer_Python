{
 "cells": [
  {
   "cell_type": "markdown",
   "id": "4582e715",
   "metadata": {},
   "source": [
    "# TUPLE"
   ]
  },
  {
   "cell_type": "code",
   "execution_count": 1,
   "id": "23bf17c0",
   "metadata": {},
   "outputs": [],
   "source": [
    "tuple1 = (\"Orange\", [10, 20, 30], (5, 15, 25))\n"
   ]
  },
  {
   "cell_type": "markdown",
   "id": "22520671",
   "metadata": {},
   "source": [
    "1."
   ]
  },
  {
   "cell_type": "code",
   "execution_count": 2,
   "id": "eaf8da5a",
   "metadata": {},
   "outputs": [
    {
     "name": "stdout",
     "output_type": "stream",
     "text": [
      "10\n"
     ]
    }
   ],
   "source": [
    "print(tuple1 [1][0])"
   ]
  },
  {
   "cell_type": "markdown",
   "id": "b7e7c80d",
   "metadata": {},
   "source": [
    "Explanation: each element is separated by a comma, so the second element is [10, 20, 30] and the first element of this element is 10."
   ]
  },
  {
   "cell_type": "markdown",
   "id": "0d7e8a3e",
   "metadata": {},
   "source": [
    "2."
   ]
  },
  {
   "cell_type": "code",
   "execution_count": 3,
   "id": "c6fd0fd3",
   "metadata": {},
   "outputs": [
    {
     "name": "stdout",
     "output_type": "stream",
     "text": [
      "(5, 15, 25)\n"
     ]
    }
   ],
   "source": [
    "print ( tuple1[-1])\n"
   ]
  },
  {
   "cell_type": "markdown",
   "id": "4a573341",
   "metadata": {},
   "source": [
    "Explanation: To print the last item we have to use negative indexing.\n"
   ]
  },
  {
   "cell_type": "markdown",
   "id": "6ec2999d",
   "metadata": {},
   "source": [
    "3."
   ]
  },
  {
   "cell_type": "markdown",
   "id": "11f0d013",
   "metadata": {},
   "source": [
    "It’s not possible because the tuples don’t change.They cannot be modified, they remain the same until the end once created."
   ]
  },
  {
   "cell_type": "markdown",
   "id": "3005b732",
   "metadata": {},
   "source": [
    "4."
   ]
  },
  {
   "cell_type": "code",
   "execution_count": 4,
   "id": "6ae9fdba",
   "metadata": {},
   "outputs": [
    {
     "name": "stdout",
     "output_type": "stream",
     "text": [
      "3\n"
     ]
    }
   ],
   "source": [
    "print(len(tuple1))\n"
   ]
  },
  {
   "cell_type": "markdown",
   "id": "6ffc4a7c",
   "metadata": {},
   "source": [
    "Explanation: We use the len function to know the number of elements\n"
   ]
  },
  {
   "cell_type": "markdown",
   "id": "bdc53c52",
   "metadata": {},
   "source": [
    "5."
   ]
  },
  {
   "cell_type": "code",
   "execution_count": 5,
   "id": "9f243dff",
   "metadata": {},
   "outputs": [],
   "source": [
    "tuple2 = ([7, 8], [9, 1], [10, 7])\n"
   ]
  },
  {
   "cell_type": "markdown",
   "id": "e748e7cc",
   "metadata": {},
   "source": [
    "Step1: We have to use the sum function to each sublist using map\n"
   ]
  },
  {
   "cell_type": "code",
   "execution_count": 8,
   "id": "03e49290",
   "metadata": {},
   "outputs": [],
   "source": [
    "map_sum = map(sum, tuple2)"
   ]
  },
  {
   "cell_type": "markdown",
   "id": "2dd05435",
   "metadata": {},
   "source": [
    "Step2: We have to convert map_sum to a list\n"
   ]
  },
  {
   "cell_type": "code",
   "execution_count": 9,
   "id": "4456e205",
   "metadata": {},
   "outputs": [],
   "source": [
    "list_sum= list(map_sum)\n"
   ]
  },
  {
   "cell_type": "markdown",
   "id": "5bb8e31d",
   "metadata": {},
   "source": [
    "Step 3: We have to sum all the individual sums\n"
   ]
  },
  {
   "cell_type": "code",
   "execution_count": 10,
   "id": "1981109f",
   "metadata": {},
   "outputs": [],
   "source": [
    "all_sum= sum(list_sum)\n"
   ]
  },
  {
   "cell_type": "markdown",
   "id": "2b4d4427",
   "metadata": {},
   "source": [
    "Step 4: We have to print to get the result\n"
   ]
  },
  {
   "cell_type": "code",
   "execution_count": 11,
   "id": "2f14edff",
   "metadata": {},
   "outputs": [
    {
     "name": "stdout",
     "output_type": "stream",
     "text": [
      "42\n"
     ]
    }
   ],
   "source": [
    "print(all_sum)\n"
   ]
  },
  {
   "cell_type": "code",
   "execution_count": null,
   "id": "4365e566",
   "metadata": {},
   "outputs": [],
   "source": []
  }
 ],
 "metadata": {
  "kernelspec": {
   "display_name": "Python 3 (ipykernel)",
   "language": "python",
   "name": "python3"
  },
  "language_info": {
   "codemirror_mode": {
    "name": "ipython",
    "version": 3
   },
   "file_extension": ".py",
   "mimetype": "text/x-python",
   "name": "python",
   "nbconvert_exporter": "python",
   "pygments_lexer": "ipython3",
   "version": "3.11.5"
  }
 },
 "nbformat": 4,
 "nbformat_minor": 5
}
